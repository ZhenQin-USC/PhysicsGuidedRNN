{
 "cells": [
  {
   "cell_type": "code",
   "execution_count": null,
   "id": "349366a3",
   "metadata": {},
   "outputs": [],
   "source": [
    "import sys\n",
    "from _Model.Models import *\n",
    "from _Utility.dataplotter import *\n",
    "from _Utility.dataloader import *\n",
    "\n",
    "import os\n",
    "from os import listdir\n",
    "from os.path import join\n",
    "from tensorflow.python.client import device_lib\n",
    "import datetime\n",
    "\n",
    "os.environ[\"CUDA_VISIBLE_DEVICES\"]=\"-1\" \n",
    "print(\"Num GPUs Available: \", len(tf.config.list_physical_devices('GPU')))\n",
    "print(\"Num CPUs Available: \", len(tf.config.list_physical_devices('CPU')))\n",
    "print(device_lib.list_local_devices())\n"
   ]
  },
  {
   "cell_type": "markdown",
   "id": "71d1e735",
   "metadata": {},
   "source": [
    "# Generate Dataset"
   ]
  },
  {
   "cell_type": "code",
   "execution_count": null,
   "id": "dcb7b6f5",
   "metadata": {
    "scrolled": true
   },
   "outputs": [],
   "source": [
    "#periodical stationary input\n",
    "stage = 250\n",
    "ntotal = 2000\n",
    "x_noise = 0.02\n",
    "y_noise = 0.01\n",
    "perturb_x = 2*x_noise*np.random.rand(2*ntotal,1) - x_noise\n",
    "perturb_y = 2*y_noise*np.random.rand(2*ntotal,1) - y_noise\n",
    "x0 = np.tile(np.linspace(0,1,stage),(int(2*ntotal/stage),1)).flatten()[:,None]\n",
    "x  = x0[:2000] + perturb_x[:2000]\n",
    "x_ext = x0 + perturb_x\n",
    "\n",
    "#output with different trends\n",
    "y0 = np.array(range(-ntotal,ntotal,1))[:,None]/ntotal\n",
    "y1 = np.sin(2*np.pi*x_ext) + perturb_y # horizontal line (stationary)\n",
    "# y1 = - y0 + 0.1*np.sin(2*np.pi*x_ext) + perturb_y # straight line\n",
    "# y1 = -np.exp(1.5*y0+0.) + 0.1*np.sin(2*np.pi*x_ext)  + perturb_y  # divergent exponential function\n",
    "# y1 = 0.3*np.exp(-1.5*y0+0.) + perturb_y + 0.1*np.sin(2*np.pi*x_ext)  # convergent exponential function\n",
    "y  = (y1[:ntotal]-y1[:ntotal].min())/(y1[:ntotal].max()-y1[:ntotal].min())# + perturb_y[:2000]\n",
    "y_ext = (y1-y1[:ntotal].min())/(y1[:ntotal].max()-y1[:ntotal].min())# + perturb_y\n",
    "plot2(x0,1,1)\n",
    "plot2(np.sin(2*np.pi*x_ext),1,1)\n",
    "plot2(y,1,1)\n",
    "plot2(y_ext,1,1)\n",
    "plot2(np.diff(y_ext,axis=0),1,1)"
   ]
  },
  {
   "cell_type": "code",
   "execution_count": null,
   "id": "a1eb7a17",
   "metadata": {},
   "outputs": [],
   "source": [
    "nfeature = 1\n",
    "ncontrol = 1\n",
    "twindow = 6\n",
    "twindow2 = 104 # future window size\n",
    "frequency = 1\n",
    "trainwindow = 1500\n",
    "predictwindow = ntotal-trainwindow # prediction window\n",
    "\n",
    "# process data to generate batch data\n",
    "history, control, yout, historyt, controlt, youtt, traintesthistory, traintestcontrol, obs, initialwindow, xin, yin = GenerateSets(\n",
    "    x, y, frequency, twindow, twindow2, predictwindow)\n",
    "historyt = historyt[:,:,-nfeature:]\n",
    "history = history[:,:,-nfeature:]\n",
    "print(historyt.shape, controlt.shape, youtt.shape)\n",
    "print(history.shape, control.shape, yout.shape)\n",
    "\n",
    "nbsize = 1\n",
    "nepochs = 10\n",
    "verbose = 1\n",
    "shuffle = True\n",
    "ntrain = trainwindow\n",
    "nvalid = 50\n",
    "\n",
    "# training set\n",
    "xtrain = [controlt, historyt[:,-1,:]]\n",
    "ytrain = youtt\n",
    "\n",
    "# validation set\n",
    "x_val = [control[ntrain:ntrain+nvalid,:,:], \n",
    "         history[ntrain:ntrain+nvalid,-1,:]]\n",
    "y_val = yout[ntrain:ntrain+nvalid,:,:]\n",
    "\n",
    "print(xtrain[0].shape, xtrain[1].shape, ytrain.shape)\n",
    "print(x_val[0].shape, x_val[1].shape, y_val.shape)"
   ]
  },
  {
   "cell_type": "markdown",
   "id": "0d6c09aa",
   "metadata": {},
   "source": [
    "# Training"
   ]
  },
  {
   "cell_type": "code",
   "execution_count": null,
   "id": "d14ed72f",
   "metadata": {
    "scrolled": true
   },
   "outputs": [],
   "source": [
    "lr = 35*1e-4\n",
    "nepochs=35\n",
    "# model_long = build_phy_GRU2(nfeature, ncontrol, lr=lr) # phy-GRU \n",
    "model_long = build_phy_RNN2(nfeature, ncontrol, lr=lr) # phy-RNN \n",
    "h = model_long.fit(xtrain, youtt, \n",
    "                           validation_data=(x_val, y_val),\n",
    "                           batch_size=nbsize, epochs=nepochs, \n",
    "                           verbose=verbose, shuffle=shuffle)\n",
    "model_long.summary()"
   ]
  },
  {
   "cell_type": "markdown",
   "id": "8c483944",
   "metadata": {},
   "source": [
    "# Visualization"
   ]
  },
  {
   "cell_type": "code",
   "execution_count": null,
   "id": "81a4a257",
   "metadata": {
    "scrolled": true
   },
   "outputs": [],
   "source": [
    "nrows = 1\n",
    "ncols = 1\n",
    "ypred_cumsumgru0 = model_long.predict([x[None,:2000,:], y[None,0,:]])\n",
    "plotpredictionlong2(y[:2000], ypred_cumsumgru0, frequency, trainwindow, \n",
    "                    nrows=nrows, ncols=ncols, ylim=[0-0.05,1+0.05])\n",
    "x_ext = np.concatenate((x,x),axis=0)\n",
    "ypred_cumsumgru = model_long.predict([x_ext[None,:,:], y[None,0,:]])\n",
    "plotpredictionlong2(y_ext, ypred_cumsumgru, frequency, trainwindow, \n",
    "                    nrows=nrows, ncols=ncols, ylim=[y_ext.min()-0.05,1+0.05])"
   ]
  },
  {
   "cell_type": "code",
   "execution_count": null,
   "id": "7621aa93",
   "metadata": {},
   "outputs": [],
   "source": []
  },
  {
   "cell_type": "code",
   "execution_count": null,
   "id": "a9c2b77e",
   "metadata": {},
   "outputs": [],
   "source": []
  },
  {
   "cell_type": "code",
   "execution_count": null,
   "id": "094f3e1a",
   "metadata": {},
   "outputs": [],
   "source": []
  }
 ],
 "metadata": {
  "kernelspec": {
   "display_name": "Python 3.9.7",
   "language": "python",
   "name": "python3"
  },
  "language_info": {
   "codemirror_mode": {
    "name": "ipython",
    "version": 3
   },
   "file_extension": ".py",
   "mimetype": "text/x-python",
   "name": "python",
   "nbconvert_exporter": "python",
   "pygments_lexer": "ipython3",
   "version": "3.9.7"
  },
  "toc": {
   "base_numbering": 1,
   "nav_menu": {},
   "number_sections": true,
   "sideBar": false,
   "skip_h1_title": false,
   "title_cell": "Table of Contents",
   "title_sidebar": "Contents",
   "toc_cell": false,
   "toc_position": {
    "height": "182px",
    "left": "93px",
    "top": "383px",
    "width": "227px"
   },
   "toc_section_display": true,
   "toc_window_display": true
  },
  "varInspector": {
   "cols": {
    "lenName": 16,
    "lenType": 16,
    "lenVar": 40
   },
   "kernels_config": {
    "python": {
     "delete_cmd_postfix": "",
     "delete_cmd_prefix": "del ",
     "library": "var_list.py",
     "varRefreshCmd": "print(var_dic_list())"
    },
    "r": {
     "delete_cmd_postfix": ") ",
     "delete_cmd_prefix": "rm(",
     "library": "var_list.r",
     "varRefreshCmd": "cat(var_dic_list()) "
    }
   },
   "types_to_exclude": [
    "module",
    "function",
    "builtin_function_or_method",
    "instance",
    "_Feature"
   ],
   "window_display": false
  },
  "vscode": {
   "interpreter": {
    "hash": "a7bb582a542df9747b8386fb96036aaa75e739fd5284e6da571e81dac0cc28a5"
   }
  }
 },
 "nbformat": 4,
 "nbformat_minor": 5
}
